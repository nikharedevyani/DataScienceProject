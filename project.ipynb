{
 "cells": [
  {
   "cell_type": "code",
   "execution_count": 4,
   "id": "42bec992-526b-4682-9ab0-a868403f8d86",
   "metadata": {},
   "outputs": [],
   "source": [
    "import pandas as pd\n",
    "import os"
   ]
  },
  {
   "cell_type": "code",
   "execution_count": 6,
   "id": "d9c9ec95-1849-4f29-acb7-bd591385bd75",
   "metadata": {},
   "outputs": [],
   "source": [
    "#1 Defining column names according to datafile PAMAP2 documentation\n",
    "columns = ['timestamp', 'activity_id', 'heart_rate', 'imu_hand_temp', 'acc_hand_x', \n",
    "           'acc_hand_y', 'acc_hand_z', 'gyro_hand_x', 'gyro_hand_y', 'gyro_hand_z',\n",
    "           'mag_hand_x', 'mag_hand_y', 'mag_hand_z', 'orient_hand_w', 'orient_hand_x',\n",
    "           'orient_hand_y', 'orient_hand_z', 'imu_chest_temp', 'acc_chest_x', \n",
    "           'acc_chest_y', 'acc_chest_z', 'gyro_chest_x', 'gyro_chest_y', 'gyro_chest_z',\n",
    "           'mag_chest_x', 'mag_chest_y', 'mag_chest_z', 'orient_chest_w', 'orient_chest_x',\n",
    "           'orient_chest_y', 'orient_chest_z', 'imu_ankle_temp', 'acc_ankle_x', \n",
    "           'acc_ankle_y', 'acc_ankle_z', 'gyro_ankle_x', 'gyro_ankle_y', 'gyro_ankle_z',\n",
    "           'mag_ankle_x', 'mag_ankle_y', 'mag_ankle_z', 'orient_ankle_w', 'orient_ankle_x',\n",
    "           'orient_ankle_y', 'orient_ankle_z']\n",
    "\n",
    "#2 Set path to the folder containing .dat files\n",
    "data_folder = 'pamap2+physical+activity+monitoring/PAMAP2_Dataset/Protocol/'  \n"
   ]
  },
  {
   "cell_type": "code",
   "execution_count": 8,
   "id": "92750eb8-e988-4381-a6ba-d5fa0e80311f",
   "metadata": {},
   "outputs": [],
   "source": [
    "# Step 3: Load and combine all subject files\n",
    "combined_data = []\n",
    "\n",
    "for filename in os.listdir(data_folder):\n",
    "    if filename.endswith('.dat'):\n",
    "        subject_id = int(filename.replace('subject', '').replace('.dat', ''))\n",
    "        file_path = os.path.join(data_folder, filename)\n",
    "        \n",
    "        # Read file into DataFrame\n",
    "        df = pd.read_csv(file_path, sep=' ', header=None, names=columns)\n",
    "        df['subject_id'] = subject_id  # Add subject ID column\n",
    "        combined_data.append(df)"
   ]
  },
  {
   "cell_type": "code",
   "execution_count": 9,
   "id": "1dcbdbf0-8bd6-4476-83f7-9dff8d1a9350",
   "metadata": {},
   "outputs": [
    {
     "name": "stderr",
     "output_type": "stream",
     "text": [
      "/var/folders/lf/f_jcxsm139d_db5b6ybm2qjc0000gn/T/ipykernel_24059/1185037193.py:6: FutureWarning: A value is trying to be set on a copy of a DataFrame or Series through chained assignment using an inplace method.\n",
      "The behavior will change in pandas 3.0. This inplace method will never work because the intermediate object on which we are setting values always behaves as a copy.\n",
      "\n",
      "For example, when doing 'df[col].method(value, inplace=True)', try using 'df.method({col: value}, inplace=True)' or df[col] = df[col].method(value) instead, to perform the operation inplace on the original object.\n",
      "\n",
      "\n",
      "  combined_df['heart_rate'].fillna(method='ffill', inplace=True)  # Fill missing heart rate\n",
      "/var/folders/lf/f_jcxsm139d_db5b6ybm2qjc0000gn/T/ipykernel_24059/1185037193.py:6: FutureWarning: Series.fillna with 'method' is deprecated and will raise in a future version. Use obj.ffill() or obj.bfill() instead.\n",
      "  combined_df['heart_rate'].fillna(method='ffill', inplace=True)  # Fill missing heart rate\n"
     ]
    }
   ],
   "source": [
    "# Step 4: Combine all subjects into one DataFrame\n",
    "combined_df = pd.concat(combined_data, ignore_index=True)\n",
    "\n",
    "# Step 5: Clean the data\n",
    "combined_df.dropna(axis=1, how='all', inplace=True)  # Drop empty columns\n",
    "combined_df['heart_rate'].fillna(method='ffill', inplace=True)  # Fill missing heart rate\n",
    "combined_df = combined_df[combined_df['activity_id'] != 0]  # Remove rows without activity\n"
   ]
  },
  {
   "cell_type": "code",
   "execution_count": 10,
   "id": "b373d998-c666-48b2-b6cc-cf2d888b346f",
   "metadata": {},
   "outputs": [
    {
     "name": "stdout",
     "output_type": "stream",
     "text": [
      "Data combined and saved as pamap2_combined_cleaned.csv\n"
     ]
    }
   ],
   "source": [
    "# Step 6: Save to CSV\n",
    "combined_df.to_csv('pamap2_combined_cleaned.csv', index=False)\n",
    "\n",
    "print(\"Data combined and saved as pamap2_combined_cleaned.csv\")"
   ]
  },
  {
   "cell_type": "code",
   "execution_count": null,
   "id": "bf697db8-2bb0-4a83-8561-7b5fcc3ed649",
   "metadata": {},
   "outputs": [],
   "source": []
  }
 ],
 "metadata": {
  "kernelspec": {
   "display_name": "Python 3 (ipykernel)",
   "language": "python",
   "name": "python3"
  },
  "language_info": {
   "codemirror_mode": {
    "name": "ipython",
    "version": 3
   },
   "file_extension": ".py",
   "mimetype": "text/x-python",
   "name": "python",
   "nbconvert_exporter": "python",
   "pygments_lexer": "ipython3",
   "version": "3.12.7"
  }
 },
 "nbformat": 4,
 "nbformat_minor": 5
}
